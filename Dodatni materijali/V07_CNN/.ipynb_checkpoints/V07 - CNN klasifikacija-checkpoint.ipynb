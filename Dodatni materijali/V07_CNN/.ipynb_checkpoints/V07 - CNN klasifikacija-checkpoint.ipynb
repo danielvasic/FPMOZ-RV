{
 "cells": [
  {
   "cell_type": "code",
   "execution_count": 1,
   "metadata": {},
   "outputs": [
    {
     "name": "stdout",
     "output_type": "stream",
     "text": [
      "[INFO] Učitao ukupno 25000 slika za treniranje i testiranje\n"
     ]
    }
   ],
   "source": [
    "import cv2\n",
    "import os\n",
    "\n",
    "putanje_slika = os.listdir ('podaci/train')\n",
    "print (\"[INFO] Učitao ukupno {} slika za treniranje i testiranje\".format (len(putanje_slika)))"
   ]
  },
  {
   "cell_type": "code",
   "execution_count": null,
   "metadata": {},
   "outputs": [
    {
     "name": "stdout",
     "output_type": "stream",
     "text": [
      "[INFO] obrađeno ukupno: 0/25000\n",
      "[INFO] obrađeno ukupno: 1000/25000\n",
      "[INFO] obrađeno ukupno: 2000/25000\n",
      "[INFO] obrađeno ukupno: 3000/25000\n",
      "[INFO] obrađeno ukupno: 4000/25000\n",
      "[INFO] obrađeno ukupno: 5000/25000\n",
      "[INFO] obrađeno ukupno: 6000/25000\n",
      "[INFO] obrađeno ukupno: 7000/25000\n",
      "[INFO] obrađeno ukupno: 8000/25000\n",
      "[INFO] obrađeno ukupno: 9000/25000\n",
      "[INFO] obrađeno ukupno: 10000/25000\n",
      "[INFO] obrađeno ukupno: 11000/25000\n",
      "[INFO] obrađeno ukupno: 12000/25000\n",
      "[INFO] obrađeno ukupno: 13000/25000\n",
      "[INFO] obrađeno ukupno: 14000/25000\n",
      "[INFO] obrađeno ukupno: 15000/25000\n",
      "[INFO] obrađeno ukupno: 16000/25000\n",
      "[INFO] obrađeno ukupno: 17000/25000\n",
      "[INFO] obrađeno ukupno: 18000/25000\n",
      "[INFO] obrađeno ukupno: 19000/25000\n",
      "[INFO] obrađeno ukupno: 20000/25000\n",
      "[INFO] obrađeno ukupno: 21000/25000\n",
      "[INFO] obrađeno ukupno: 22000/25000\n",
      "[INFO] obrađeno ukupno: 23000/25000\n",
      "[INFO] obrađeno ukupno: 24000/25000\n"
     ]
    }
   ],
   "source": [
    "podaci = []\n",
    "oznake = []\n",
    "\n",
    "def ucitaj_sliku (slika, dimenzije=(400, 300)):\n",
    "    return cv2.resize (slika, dimenzije)\n",
    "\n",
    "for i, putanja_slike in enumerate(putanje_slika):\n",
    "    slika = cv2.imread ('podaci/train/{}'.format(putanja_slike))\n",
    "    slika = ucitaj_sliku (slika)\n",
    "    podaci.append (slika)\n",
    "    \n",
    "    oznaka = putanja_slike.split(os.path.sep)[-1].split(\".\")[0]\n",
    "    oznake.append (oznaka)\n",
    "    \n",
    "    if i%1000 == 0:\n",
    "        print (\"[INFO] obrađeno ukupno: {}/{}\"\n",
    "               .format(i, len(putanje_slika)))"
   ]
  },
  {
   "cell_type": "code",
   "execution_count": null,
   "metadata": {},
   "outputs": [
    {
     "name": "stderr",
     "output_type": "stream",
     "text": [
      "Using TensorFlow backend.\n"
     ]
    }
   ],
   "source": [
    "from sklearn.preprocessing import LabelEncoder\n",
    "from sklearn.model_selection import train_test_split\n",
    "import numpy as np\n",
    "from keras.utils import np_utils\n",
    "\n",
    "le = LabelEncoder ()\n",
    "oznake = le.fit_transform (oznake)\n",
    "oznake = np_utils.to_categorical (oznake, 2)\n",
    "\n",
    "podaci = np.array (podaci)/255.0\n",
    "\n",
    "treniranje_podaci, treniranje_oznake, testiranje_podaci, testiranje_oznake=\\\n",
    "train_test_split (podaci, oznake, test_size=0.15, random_state=23)\n",
    "print (\"[INFO] podaci podjeljeni u podatke za treniranje i testiranje.\")"
   ]
  },
  {
   "cell_type": "code",
   "execution_count": null,
   "metadata": {},
   "outputs": [],
   "source": [
    "from keras.models import Sequential\n",
    "from keras.layers import Conv2D, MaxPooling2D, Activation, Dense, Flatten\n",
    "from keras.optimizers import SGD\n",
    "\n",
    "def osnovni_model ():\n",
    "    model = Sequential()\n",
    "    model.add (\n",
    "        Conv2D(32, (3,3), padding='same', \n",
    "               input_shape=treniranje_podaci.shape[1:]))\n",
    "    model.add (Activation('relu'))\n",
    "    model.add (Conv2d(32, (3,3)))\n",
    "    model.add (MaxPooling2D(pool_size=(2,2)))\n",
    "    \n",
    "    model.add (Conv2D(64, (3,3), padding='same'))\n",
    "    model.add (Activation ('relu'))\n",
    "    model.add (Conv2D(64, (3,3)))\n",
    "    model.add (Activation ('relu'))\n",
    "    model.add (MaxPooling2D(pool_size=(2,2)))\n",
    "    \n",
    "    model.add (Flatten())\n",
    "    model.add (Dense(512))\n",
    "    model.add (Activation ('relu'))\n",
    "    model.add (Dense (len (le.classes_)))\n",
    "    model.add (Activation ('softmax'))\n",
    "    \n",
    "    sgd = SGD(lr=0.1, decay=1e-6, momentum=0.9, nesterov=True)\n",
    "    model.compile (loss='categorical_crossentropy', optimizer = sgd, metrics=['accuracy'])\n",
    "    return model"
   ]
  },
  {
   "cell_type": "code",
   "execution_count": null,
   "metadata": {},
   "outputs": [],
   "source": [
    "cnn = osnovni_model()\n",
    "cnn.summary()"
   ]
  },
  {
   "cell_type": "code",
   "execution_count": null,
   "metadata": {
    "collapsed": true
   },
   "outputs": [],
   "source": [
    "model = cnn.fit (treniranje_podaci, testiranje_podaci, batch_size=32, \n",
    "                 epochs=10, validation_data=(testiranje_podaci, testiranje_oznake), \n",
    "                 shuffle=True)"
   ]
  }
 ],
 "metadata": {
  "kernelspec": {
   "display_name": "Python 3",
   "language": "python",
   "name": "python3"
  },
  "language_info": {
   "codemirror_mode": {
    "name": "ipython",
    "version": 3
   },
   "file_extension": ".py",
   "mimetype": "text/x-python",
   "name": "python",
   "nbconvert_exporter": "python",
   "pygments_lexer": "ipython3",
   "version": "3.6.4"
  }
 },
 "nbformat": 4,
 "nbformat_minor": 2
}
