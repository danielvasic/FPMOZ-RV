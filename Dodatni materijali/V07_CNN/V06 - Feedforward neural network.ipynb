{
 "cells": [
  {
   "cell_type": "code",
   "execution_count": 3,
   "metadata": {},
   "outputs": [
    {
     "name": "stderr",
     "output_type": "stream",
     "text": [
      "Using TensorFlow backend.\n"
     ]
    },
    {
     "name": "stdout",
     "output_type": "stream",
     "text": [
      "Downloading data from https://s3.amazonaws.com/img-datasets/mnist.npz\n",
      "11493376/11490434 [==============================] - 114s   \n"
     ]
    }
   ],
   "source": [
    "from keras.datasets import mnist\n",
    "(train_images, train_labels), (test_images, test_labels) = mnist.load_data()"
   ]
  },
  {
   "cell_type": "code",
   "execution_count": 4,
   "metadata": {},
   "outputs": [
    {
     "name": "stdout",
     "output_type": "stream",
     "text": [
      "Podaci za treniranje (60000, 28, 28) (60000,)\n",
      "Podaci za testiranje (10000, 28, 28) (10000,)\n"
     ]
    }
   ],
   "source": [
    "from keras.utils import to_categorical\n",
    "print (\"Podaci za treniranje\", train_images.shape, train_labels.shape)\n",
    "print (\"Podaci za testiranje\", test_images.shape, test_labels.shape)"
   ]
  },
  {
   "cell_type": "code",
   "execution_count": 5,
   "metadata": {},
   "outputs": [
    {
     "name": "stdout",
     "output_type": "stream",
     "text": [
      "Broj izlaznih kategorija 10\n",
      "Izlazne kategorije [0 1 2 3 4 5 6 7 8 9]\n"
     ]
    }
   ],
   "source": [
    "import numpy as np\n",
    "classes = np.unique(train_labels)\n",
    "nClasses = len(classes)\n",
    "\n",
    "print (\"Broj izlaznih kategorija\", nClasses)\n",
    "print (\"Izlazne kategorije\", classes)"
   ]
  },
  {
   "cell_type": "code",
   "execution_count": 9,
   "metadata": {},
   "outputs": [
    {
     "data": {
      "text/plain": [
       "<matplotlib.image.AxesImage at 0x259e26a3cc0>"
      ]
     },
     "execution_count": 9,
     "metadata": {},
     "output_type": "execute_result"
    },
    {
     "data": {
      "image/png": "[encoded data removed]",
      "text/plain": [
       "<matplotlib.figure.Figure at 0x259e250fac8>"
      ]
     },
     "metadata": {},
     "output_type": "display_data"
    }
   ],
   "source": [
    "%matplotlib inline\n",
    "from matplotlib import pyplot as plt\n",
    "plt.imshow(train_images[0, :, :], cmap='gray')"
   ]
  },
  {
   "cell_type": "code",
   "execution_count": 10,
   "metadata": {
    "collapsed": true
   },
   "outputs": [],
   "source": [
    "dim_data = np.prod(train_images.shape[1:])\n",
    "train_data = train_images.reshape(train_images.shape[0], dim_data)\n",
    "test_data = test_images.reshape(test_images.shape[0], dim_data)\n",
    "\n",
    "train_data = train_data.astype('float32')\n",
    "test_data = test_data.astype('float32')\n",
    "\n",
    "train_data /= 255\n",
    "test_data /= 255"
   ]
  },
  {
   "cell_type": "code",
   "execution_count": 11,
   "metadata": {},
   "outputs": [
    {
     "name": "stdout",
     "output_type": "stream",
     "text": [
      "Prva oznaka:  5\n",
      "Prva oznaka nakon transformacije:  [ 0.  0.  0.  0.  0.  1.  0.  0.  0.  0.]\n"
     ]
    }
   ],
   "source": [
    "train_labels_one_hot = to_categorical (train_labels)\n",
    "test_labels_one_hot = to_categorical (test_labels)\n",
    "\n",
    "print (\"Prva oznaka: \", train_labels[0])\n",
    "print (\"Prva oznaka nakon transformacije: \", train_labels_one_hot[0])"
   ]
  },
  {
   "cell_type": "code",
   "execution_count": 16,
   "metadata": {},
   "outputs": [
    {
     "name": "stdout",
     "output_type": "stream",
     "text": [
      "_________________________________________________________________\n",
      "Layer (type)                 Output Shape              Param #   \n",
      "=================================================================\n",
      "dense_4 (Dense)              (None, 512)               401920    \n",
      "_________________________________________________________________\n",
      "dense_5 (Dense)              (None, 512)               262656    \n",
      "_________________________________________________________________\n",
      "dense_6 (Dense)              (None, 10)                5130      \n",
      "=================================================================\n",
      "Total params: 669,706\n",
      "Trainable params: 669,706\n",
      "Non-trainable params: 0\n",
      "_________________________________________________________________\n"
     ]
    }
   ],
   "source": [
    "from keras.models import Sequential\n",
    "from keras.layers import Dense\n",
    "\n",
    "model = Sequential ()\n",
    "model.add(Dense (512, activation='relu', input_shape=(dim_data,)))\n",
    "model.add(Dense (512, activation='relu'))\n",
    "model.add(Dense (nClasses, activation='softmax'))\n",
    "model.summary()"
   ]
  },
  {
   "cell_type": "code",
   "execution_count": 14,
   "metadata": {
    "collapsed": true
   },
   "outputs": [],
   "source": [
    "model.compile(optimizer='rmsprop', loss='categorical_crossentropy', metrics=['accuracy'])"
   ]
  },
  {
   "cell_type": "code",
   "execution_count": 15,
   "metadata": {},
   "outputs": [
    {
     "name": "stdout",
     "output_type": "stream",
     "text": [
      "Train on 60000 samples, validate on 10000 samples\n",
      "Epoch 1/20\n",
      "60000/60000 [==============================] - 12s - loss: 0.2773 - acc: 0.9136 - val_loss: 0.1269 - val_acc: 0.9590\n",
      "Epoch 2/20\n",
      "60000/60000 [==============================] - 11s - loss: 0.0928 - acc: 0.9708 - val_loss: 0.1082 - val_acc: 0.9680\n",
      "Epoch 3/20\n",
      "60000/60000 [==============================] - 11s - loss: 0.0579 - acc: 0.9817 - val_loss: 0.0825 - val_acc: 0.9738\n",
      "Epoch 4/20\n",
      "60000/60000 [==============================] - 11s - loss: 0.0416 - acc: 0.9869 - val_loss: 0.0727 - val_acc: 0.9796\n",
      "Epoch 5/20\n",
      "60000/60000 [==============================] - 11s - loss: 0.0283 - acc: 0.9909 - val_loss: 0.0892 - val_acc: 0.9742\n",
      "Epoch 6/20\n",
      "60000/60000 [==============================] - 11s - loss: 0.0229 - acc: 0.9923 - val_loss: 0.0883 - val_acc: 0.9760\n",
      "Epoch 7/20\n",
      "60000/60000 [==============================] - 12s - loss: 0.0180 - acc: 0.9937 - val_loss: 0.0985 - val_acc: 0.9773\n",
      "Epoch 8/20\n",
      "60000/60000 [==============================] - 12s - loss: 0.0139 - acc: 0.9957 - val_loss: 0.0987 - val_acc: 0.9765\n",
      "Epoch 9/20\n",
      "60000/60000 [==============================] - 11s - loss: 0.0102 - acc: 0.9968 - val_loss: 0.0831 - val_acc: 0.9824\n",
      "Epoch 10/20\n",
      "60000/60000 [==============================] - 11s - loss: 0.0095 - acc: 0.9971 - val_loss: 0.0975 - val_acc: 0.9806\n",
      "Epoch 11/20\n",
      "60000/60000 [==============================] - 11s - loss: 0.0081 - acc: 0.9975 - val_loss: 0.0867 - val_acc: 0.9824\n",
      "Epoch 12/20\n",
      "60000/60000 [==============================] - 11s - loss: 0.0071 - acc: 0.9977 - val_loss: 0.1052 - val_acc: 0.9816\n",
      "Epoch 13/20\n",
      "60000/60000 [==============================] - 12s - loss: 0.0068 - acc: 0.9978 - val_loss: 0.0990 - val_acc: 0.9829\n",
      "Epoch 14/20\n",
      "60000/60000 [==============================] - 11s - loss: 0.0065 - acc: 0.9980 - val_loss: 0.1012 - val_acc: 0.9830\n",
      "Epoch 15/20\n",
      "60000/60000 [==============================] - 11s - loss: 0.0056 - acc: 0.9982 - val_loss: 0.1743 - val_acc: 0.9718\n",
      "Epoch 16/20\n",
      "60000/60000 [==============================] - 11s - loss: 0.0052 - acc: 0.9982 - val_loss: 0.1071 - val_acc: 0.9831\n",
      "Epoch 17/20\n",
      "60000/60000 [==============================] - 11s - loss: 0.0051 - acc: 0.9985 - val_loss: 0.1078 - val_acc: 0.9832\n",
      "Epoch 18/20\n",
      "60000/60000 [==============================] - 11s - loss: 0.0054 - acc: 0.9985 - val_loss: 0.1146 - val_acc: 0.9829\n",
      "Epoch 19/20\n",
      "60000/60000 [==============================] - 11s - loss: 0.0045 - acc: 0.9988 - val_loss: 0.1201 - val_acc: 0.9834\n",
      "Epoch 20/20\n",
      "60000/60000 [==============================] - 11s - loss: 0.0042 - acc: 0.9987 - val_loss: 0.1208 - val_acc: 0.9834\n"
     ]
    }
   ],
   "source": [
    "history = model.fit (train_data, train_labels_one_hot, batch_size=256, epochs=20, verbose=1, validation_data=(test_data, test_labels_one_hot))"
   ]
  },
  {
   "cell_type": "code",
   "execution_count": null,
   "metadata": {
    "collapsed": true
   },
   "outputs": [],
   "source": []
  }
 ],
 "metadata": {
  "kernelspec": {
   "display_name": "Python 3",
   "language": "python",
   "name": "python3"
  },
  "language_info": {
   "codemirror_mode": {
    "name": "ipython",
    "version": 3
   },
   "file_extension": ".py",
   "mimetype": "text/x-python",
   "name": "python",
   "nbconvert_exporter": "python",
   "pygments_lexer": "ipython3",
   "version": "3.6.2"
  }
 },
 "nbformat": 4,
 "nbformat_minor": 2
}
