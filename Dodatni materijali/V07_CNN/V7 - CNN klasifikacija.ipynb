{
 "cells": [
  {
   "cell_type": "code",
   "execution_count": 1,
   "metadata": {
    "collapsed": true
   },
   "outputs": [],
   "source": [
    "import cv2"
   ]
  },
  {
   "cell_type": "code",
   "execution_count": 2,
   "metadata": {
    "collapsed": true
   },
   "outputs": [],
   "source": [
    "def image_to_feature_vector(image, size=(32, 32)):\n",
    "    # sliku pretvaramo u sliku fiksnih dimenzija, zapamtite ulaz u CNN uvijek mora biti istih dimenzija\n",
    "    return cv2.resize(image, size)"
   ]
  },
  {
   "cell_type": "code",
   "execution_count": 3,
   "metadata": {},
   "outputs": [
    {
     "name": "stdout",
     "output_type": "stream",
     "text": [
      "[INFO] ucitavam slike u listu slika...\n",
      "[INFO] ucitao ukupno 25000 za treniranje i vrednovanje\n"
     ]
    }
   ],
   "source": [
    "import os\n",
    "print(\"[INFO] ucitavam slike u listu slika...\")\n",
    "images_paths = os.listdir('podaci/train/')\n",
    "print(\"[INFO] ucitao ukupno {} za treniranje i vrednovanje\".format(len(images_paths)))"
   ]
  },
  {
   "cell_type": "code",
   "execution_count": 4,
   "metadata": {},
   "outputs": [
    {
     "name": "stdout",
     "output_type": "stream",
     "text": [
      "[INFO] obradeno ukupno: 1000/25000\n",
      "[INFO] obradeno ukupno: 2000/25000\n",
      "[INFO] obradeno ukupno: 3000/25000\n",
      "[INFO] obradeno ukupno: 4000/25000\n",
      "[INFO] obradeno ukupno: 5000/25000\n",
      "[INFO] obradeno ukupno: 6000/25000\n",
      "[INFO] obradeno ukupno: 7000/25000\n",
      "[INFO] obradeno ukupno: 8000/25000\n",
      "[INFO] obradeno ukupno: 9000/25000\n",
      "[INFO] obradeno ukupno: 10000/25000\n",
      "[INFO] obradeno ukupno: 11000/25000\n",
      "[INFO] obradeno ukupno: 12000/25000\n",
      "[INFO] obradeno ukupno: 13000/25000\n",
      "[INFO] obradeno ukupno: 14000/25000\n",
      "[INFO] obradeno ukupno: 15000/25000\n",
      "[INFO] obradeno ukupno: 16000/25000\n",
      "[INFO] obradeno ukupno: 17000/25000\n",
      "[INFO] obradeno ukupno: 18000/25000\n",
      "[INFO] obradeno ukupno: 19000/25000\n",
      "[INFO] obradeno ukupno: 20000/25000\n",
      "[INFO] obradeno ukupno: 21000/25000\n",
      "[INFO] obradeno ukupno: 22000/25000\n",
      "[INFO] obradeno ukupno: 23000/25000\n",
      "[INFO] obradeno ukupno: 24000/25000\n"
     ]
    }
   ],
   "source": [
    "data = []\n",
    "labels = []\n",
    "for (i, image_path) in enumerate(images_paths):\n",
    "    \n",
    "    image = cv2.imread('podaci/train/{}'.format(image_path))\n",
    "    # uzmi iz slike naziv klase buduci da je slika zapisana u obliku oznaka.broj.jpg\n",
    "    label = image_path.split(os.path.sep)[-1].split(\".\")[0]\n",
    "    \n",
    "    # ucitaj sliku te je smanji na dimenzije 32x32\n",
    "    features = image_to_feature_vector(image)\n",
    "    data.append(features)\n",
    "    labels.append(label)\n",
    " \n",
    "    # prikazi azuriranje svako 1000 slika\n",
    "    if i > 0 and i % 1000 == 0:\n",
    "        print(\"[INFO] obradeno ukupno: {}/{}\".format(i, len(images_paths)))"
   ]
  },
  {
   "cell_type": "code",
   "execution_count": 5,
   "metadata": {},
   "outputs": [
    {
     "name": "stderr",
     "output_type": "stream",
     "text": [
      "Using TensorFlow backend.\n"
     ]
    },
    {
     "name": "stdout",
     "output_type": "stream",
     "text": [
      "[INFO] podjela podataka na skup podataka za treniranje i testiranje\n"
     ]
    }
   ],
   "source": [
    "from sklearn.preprocessing import LabelEncoder\n",
    "from sklearn.model_selection import train_test_split\n",
    "from keras.utils import np_utils\n",
    "import numpy as np\n",
    "\n",
    "le = LabelEncoder ()\n",
    "labels = le.fit_transform (labels)\n",
    "\n",
    "data = np.array (data) / 255\n",
    "labels = np_utils.to_categorical (labels, 2)\n",
    "\n",
    "print ('[INFO] podjela podataka na skup podataka za treniranje i testiranje')\n",
    "train_data, test_data, train_labels, test_labels = train_test_split (data, labels, test_size=0.25, random_state=42)"
   ]
  },
  {
   "cell_type": "code",
   "execution_count": 6,
   "metadata": {
    "collapsed": true
   },
   "outputs": [],
   "source": [
    "from keras.models import Sequential\n",
    "from keras.layers import Conv2D\n",
    "from keras.layers import MaxPooling2D\n",
    "from keras.layers import Activation\n",
    "from keras.optimizers import SGD\n",
    "from keras.layers import Dense\n",
    "from keras.layers import Dropout\n",
    "from keras.layers import Flatten\n",
    "\n",
    "def base_model():\n",
    "    model = Sequential()\n",
    "    model.add(Conv2D(32, (3, 3), padding='same', input_shape=train_data.shape[1:]))\n",
    "    model.add(Activation('relu'))\n",
    "    model.add(Conv2D(32,(3, 3)))\n",
    "    model.add(Activation('relu'))\n",
    "    model.add(MaxPooling2D(pool_size=(2, 2)))\n",
    "    model.add(Dropout(0.25))\n",
    " \n",
    "    model.add(Conv2D(64, (3, 3), padding='same'))\n",
    "    model.add(Activation('relu'))\n",
    "    model.add(Conv2D(64, (3,3)))\n",
    "    model.add(Activation('relu'))\n",
    "    model.add(MaxPooling2D(pool_size=(2, 2)))\n",
    "    model.add(Dropout(0.25))\n",
    " \n",
    "    model.add(Flatten())\n",
    "    model.add(Dense(512))\n",
    "    model.add(Activation('relu'))\n",
    "    model.add(Dropout(0.5))\n",
    "    model.add(Dense(len(le.classes_)))\n",
    "    model.add(Activation('softmax'))\n",
    " \n",
    "    sgd = SGD(lr = 0.1, decay=1e-6, momentum=0.9, nesterov=True)\n",
    " \n",
    "    model.compile(loss='categorical_crossentropy', optimizer=sgd, metrics=['accuracy'])\n",
    "    return model"
   ]
  },
  {
   "cell_type": "code",
   "execution_count": 7,
   "metadata": {},
   "outputs": [
    {
     "name": "stdout",
     "output_type": "stream",
     "text": [
      "_________________________________________________________________\n",
      "Layer (type)                 Output Shape              Param #   \n",
      "=================================================================\n",
      "conv2d_1 (Conv2D)            (None, 32, 32, 32)        896       \n",
      "_________________________________________________________________\n",
      "activation_1 (Activation)    (None, 32, 32, 32)        0         \n",
      "_________________________________________________________________\n",
      "conv2d_2 (Conv2D)            (None, 30, 30, 32)        9248      \n",
      "_________________________________________________________________\n",
      "activation_2 (Activation)    (None, 30, 30, 32)        0         \n",
      "_________________________________________________________________\n",
      "max_pooling2d_1 (MaxPooling2 (None, 15, 15, 32)        0         \n",
      "_________________________________________________________________\n",
      "dropout_1 (Dropout)          (None, 15, 15, 32)        0         \n",
      "_________________________________________________________________\n",
      "conv2d_3 (Conv2D)            (None, 15, 15, 64)        18496     \n",
      "_________________________________________________________________\n",
      "activation_3 (Activation)    (None, 15, 15, 64)        0         \n",
      "_________________________________________________________________\n",
      "conv2d_4 (Conv2D)            (None, 13, 13, 64)        36928     \n",
      "_________________________________________________________________\n",
      "activation_4 (Activation)    (None, 13, 13, 64)        0         \n",
      "_________________________________________________________________\n",
      "max_pooling2d_2 (MaxPooling2 (None, 6, 6, 64)          0         \n",
      "_________________________________________________________________\n",
      "dropout_2 (Dropout)          (None, 6, 6, 64)          0         \n",
      "_________________________________________________________________\n",
      "flatten_1 (Flatten)          (None, 2304)              0         \n",
      "_________________________________________________________________\n",
      "dense_1 (Dense)              (None, 512)               1180160   \n",
      "_________________________________________________________________\n",
      "activation_5 (Activation)    (None, 512)               0         \n",
      "_________________________________________________________________\n",
      "dropout_3 (Dropout)          (None, 512)               0         \n",
      "_________________________________________________________________\n",
      "dense_2 (Dense)              (None, 2)                 1026      \n",
      "_________________________________________________________________\n",
      "activation_6 (Activation)    (None, 2)                 0         \n",
      "=================================================================\n",
      "Total params: 1,246,754\n",
      "Trainable params: 1,246,754\n",
      "Non-trainable params: 0\n",
      "_________________________________________________________________\n"
     ]
    }
   ],
   "source": [
    "cnn = base_model()\n",
    "cnn.summary()"
   ]
  },
  {
   "cell_type": "code",
   "execution_count": 9,
   "metadata": {},
   "outputs": [
    {
     "name": "stdout",
     "output_type": "stream",
     "text": [
      "Train on 18750 samples, validate on 6250 samples\n",
      "Epoch 1/20\n",
      "18750/18750 [==============================] - 164s - loss: 0.6986 - acc: 0.4971 - val_loss: 0.6994 - val_acc: 0.4974\n",
      "Epoch 2/20\n",
      "18750/18750 [==============================] - 210s - loss: 0.6960 - acc: 0.5006 - val_loss: 0.7015 - val_acc: 0.5026\n",
      "Epoch 3/20\n",
      "18750/18750 [==============================] - 230s - loss: 0.6959 - acc: 0.4977 - val_loss: 0.6958 - val_acc: 0.5026\n",
      "Epoch 4/20\n",
      "18750/18750 [==============================] - 212s - loss: 0.6956 - acc: 0.5049 - val_loss: 0.6931 - val_acc: 0.5026\n",
      "Epoch 5/20\n",
      "18750/18750 [==============================] - 214s - loss: 0.6962 - acc: 0.5003 - val_loss: 0.6942 - val_acc: 0.5026\n",
      "Epoch 6/20\n",
      "18750/18750 [==============================] - 212s - loss: 0.6961 - acc: 0.5043 - val_loss: 0.7159 - val_acc: 0.4974\n",
      "Epoch 7/20\n",
      "18750/18750 [==============================] - 214s - loss: 0.6961 - acc: 0.5023 - val_loss: 0.6964 - val_acc: 0.4974\n",
      "Epoch 8/20\n",
      "18750/18750 [==============================] - 213s - loss: 0.6968 - acc: 0.4995 - val_loss: 0.6931 - val_acc: 0.5026\n",
      "Epoch 9/20\n",
      "18750/18750 [==============================] - 211s - loss: 0.6961 - acc: 0.4986 - val_loss: 0.6936 - val_acc: 0.5026\n",
      "Epoch 10/20\n",
      "18750/18750 [==============================] - 213s - loss: 0.6967 - acc: 0.4968 - val_loss: 0.6940 - val_acc: 0.4974\n",
      "Epoch 11/20\n",
      "18750/18750 [==============================] - 214s - loss: 0.6963 - acc: 0.4998 - val_loss: 0.6994 - val_acc: 0.5026\n",
      "Epoch 12/20\n",
      "18750/18750 [==============================] - 213s - loss: 0.6970 - acc: 0.4957 - val_loss: 0.6963 - val_acc: 0.5026\n",
      "Epoch 13/20\n",
      "18750/18750 [==============================] - 222s - loss: 0.6965 - acc: 0.4973 - val_loss: 0.6933 - val_acc: 0.4974\n",
      "Epoch 14/20\n",
      "18750/18750 [==============================] - 213s - loss: 0.6963 - acc: 0.5011 - val_loss: 0.6938 - val_acc: 0.5026\n",
      "Epoch 15/20\n",
      "18750/18750 [==============================] - 214s - loss: 0.6964 - acc: 0.4989 - val_loss: 0.6933 - val_acc: 0.5026\n",
      "Epoch 16/20\n",
      "18750/18750 [==============================] - 218s - loss: 0.6964 - acc: 0.5003 - val_loss: 0.7007 - val_acc: 0.5026\n",
      "Epoch 17/20\n",
      "18750/18750 [==============================] - 220s - loss: 0.6950 - acc: 0.5054 - val_loss: 0.7002 - val_acc: 0.4974\n",
      "Epoch 18/20\n",
      "18750/18750 [==============================] - 219s - loss: 0.6965 - acc: 0.4979 - val_loss: 0.6932 - val_acc: 0.4974\n",
      "Epoch 19/20\n",
      "18750/18750 [==============================] - 213s - loss: 0.6961 - acc: 0.4995 - val_loss: 0.6962 - val_acc: 0.5026\n",
      "Epoch 20/20\n",
      "18750/18750 [==============================] - 214s - loss: 0.6958 - acc: 0.5009 - val_loss: 0.6985 - val_acc: 0.4974\n"
     ]
    }
   ],
   "source": [
    "model = cnn.fit (train_data, train_labels, batch_size=32, epochs=20, validation_data=(test_data, test_labels), shuffle=True)"
   ]
  },
  {
   "cell_type": "code",
   "execution_count": 12,
   "metadata": {},
   "outputs": [
    {
     "name": "stdout",
     "output_type": "stream",
     "text": [
      "Model je spašen na disk...\n"
     ]
    }
   ],
   "source": [
    "model_json = cnn.to_json()\n",
    "with open(\"model.json\", \"w\") as json_file:\n",
    "    json_file.write(model_json)\n",
    "\n",
    "cnn.save_weights(\"model.h5\")\n",
    "print(\"Model je spašen na disk...\")"
   ]
  },
  {
   "cell_type": "code",
   "execution_count": 14,
   "metadata": {},
   "outputs": [
    {
     "name": "stdout",
     "output_type": "stream",
     "text": [
      "Model učitan s diska\n"
     ]
    }
   ],
   "source": [
    "from keras.models import model_from_json\n",
    "json_file = open('model.json', 'r')\n",
    "loaded_model_json = json_file.read()\n",
    "json_file.close()\n",
    "loaded_model = model_from_json(loaded_model_json)\n",
    "loaded_model.load_weights(\"model.h5\")\n",
    "print(\"Model učitan s diska\")"
   ]
  }
 ],
 "metadata": {
  "kernelspec": {
   "display_name": "Python 3",
   "language": "python",
   "name": "python3"
  },
  "language_info": {
   "codemirror_mode": {
    "name": "ipython",
    "version": 3
   },
   "file_extension": ".py",
   "mimetype": "text/x-python",
   "name": "python",
   "nbconvert_exporter": "python",
   "pygments_lexer": "ipython3",
   "version": "3.6.2"
  }
 },
 "nbformat": 4,
 "nbformat_minor": 2
}
